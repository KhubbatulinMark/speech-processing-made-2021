{
 "cells": [
  {
   "cell_type": "markdown",
   "metadata": {
    "id": "p4V6X26FcseO"
   },
   "source": [
    "input = torch.randn(1, 1, 32, 32)\n",
    "# Практика №3\n",
    "\n",
    "Теперь в качестве акустической модели мы будем использовать простой DNN классификатор. На каждом кадре записи мы будем подавать его вектор признаков на DNN, которая будет выдавать \"распределение вероятностей\" по фонемам. Далее это распределение мы будем использовать в нашем алгоритме распознавания по словарю. Схема работы такого классификатора представлена ниже: \n",
    "\n",
    "![](https://drive.google.com/uc?export=view&id=1dv0VuE8DIoKXETbvnZq2PMixkWMCJOxr)"
   ]
  },
  {
   "cell_type": "markdown",
   "metadata": {
    "id": "rHZ_-8Zgddys"
   },
   "source": [
    "### Bootstrap"
   ]
  },
  {
   "cell_type": "code",
   "execution_count": 1,
   "metadata": {
    "id": "5ce6879uekCJ"
   },
   "outputs": [],
   "source": [
    "import os\n",
    "import json\n",
    "import numpy as np\n",
    "import time\n",
    "from tqdm.notebook import tqdm\n",
    "import matplotlib.pyplot as plt\n",
    "import IPython.display as ipd\n",
    "import librosa, librosa.display\n",
    "import torch\n",
    "import torch.nn as nn\n",
    "import torch.functional as F\n",
    "\n",
    "\n",
    "%matplotlib inline\n",
    "plt.rcParams['figure.figsize'] = (15.0, 5.0)\n",
    "plt.rcParams['image.interpolation'] = 'nearest'\n",
    "plt.rcParams['image.cmap'] = 'gray'"
   ]
  },
  {
   "cell_type": "code",
   "execution_count": 2,
   "metadata": {
    "id": "962pS6h8e1kp"
   },
   "outputs": [
    {
     "data": {
      "application/vnd.jupyter.widget-view+json": {
       "model_id": "e236041f44aa4a28a05fd604c350841e",
       "version_major": 2,
       "version_minor": 0
      },
      "text/plain": [
       "HBox(children=(HTML(value=''), FloatProgress(value=0.0, max=3000.0), HTML(value='')))"
      ]
     },
     "metadata": {},
     "output_type": "display_data"
    },
    {
     "name": "stdout",
     "output_type": "stream",
     "text": [
      "Early stop at 1000th file..\n",
      "\n"
     ]
    }
   ],
   "source": [
    "# загрузка списка допустимых фонем:\n",
    "def load_phones_dict(phones_file):\n",
    "    phones_dict = {}\n",
    "    with open(phones_file, encoding='utf-8') as fn:\n",
    "        for index, line in enumerate(fn):\n",
    "            phones_dict[line.strip()] = index\n",
    "    return phones_dict\n",
    "\n",
    "# загрузка покадровой фонемной разметки в словарь:\n",
    "def load_phone_aligment(aligment_file):\n",
    "    ali_dict = {}\n",
    "    with open(aligment_file, encoding='utf-8') as fn:\n",
    "        for line in fn:\n",
    "            line = line.strip().split()\n",
    "            ali_dict[line[0]] = line[1:]\n",
    "    return ali_dict\n",
    "\n",
    "# подсчет акустиеских признаков для записей из папки:\n",
    "def load_data_dict(dir_path, count=None):\n",
    "    data_dict = {}\n",
    "    step = 0\n",
    "    for wav_name in tqdm(os.listdir(dir_path)):\n",
    "        x, sr = librosa.load(os.path.join(dir_path, wav_name), sr=None) \n",
    "        mfcc = librosa.feature.mfcc(x, sr=sr, n_mfcc=13, \n",
    "                                    n_fft=int(sr * 0.025),\n",
    "                                    hop_length=int(sr * 0.01))\n",
    "        step += 1\n",
    "        if count and step == count:\n",
    "            print(f'Early stop at {step}th file..')\n",
    "            break\n",
    "        data_dict[wav_name.split('.')[0]] = mfcc.T  \n",
    "    return data_dict\n",
    "\n",
    "\n",
    "phones_file = 'resources/train_librispeech_10h/phones'\n",
    "phones_dict = load_phones_dict(phones_file)\n",
    "\n",
    "ali_file = 'resources/train_librispeech_10h/ali_phones.txt'\n",
    "ali_dict = load_phone_aligment(ali_file)\n",
    "\n",
    "train_records_dir = 'resources/train_librispeech_10h/wav_dir'\n",
    "feats_dict = load_data_dict(train_records_dir, count=1000)"
   ]
  },
  {
   "cell_type": "markdown",
   "metadata": {
    "id": "uANGmL0ufNIW"
   },
   "source": [
    "### Априорная вероятность:\n",
    "\n",
    "![](https://drive.google.com/uc?export=view&id=1WhjclhXm2POYsCgvxp3iAIOvT9F_k8If)"
   ]
  },
  {
   "cell_type": "code",
   "execution_count": 3,
   "metadata": {
    "id": "2n8qgqIrfiS_"
   },
   "outputs": [],
   "source": [
    "# объединение кадров признаков с соответствующими им фонемам:\n",
    "def combain_data(ali_dict, feats_dict, phones_dict, side_context=None):\n",
    "    data_list = []\n",
    "    priors_list = [0] * len(phones_dict)\n",
    "    for file_name in feats_dict.keys():\n",
    "        file_feats = feats_dict[file_name]\n",
    "        file_ali = ali_dict[file_name]\n",
    "        for frame in range(min(len(file_feats), len(file_ali))):\n",
    "            data_list.append(np.append(file_feats[frame], phones_dict[file_ali[frame]]))\n",
    "            priors_list[phones_dict[file_ali[frame]]] += 1\n",
    "    return data_list, np.array(priors_list)/sum(priors_list)\n",
    "\n",
    "side_context = None\n",
    "data_list, priors_list = combain_data(ali_dict, feats_dict, phones_dict, side_context)\n",
    "data_list = np.random.permutation(data_list)"
   ]
  },
  {
   "cell_type": "code",
   "execution_count": 4,
   "metadata": {
    "id": "qHLC2DdUftpu"
   },
   "outputs": [],
   "source": [
    "class CommonDataSet():\n",
    "\n",
    "    def __init__(self, data_list, device, valid_proportion=0.1):\n",
    "        self.train = data_list[:int((1-valid_proportion)*len(data_list))]\n",
    "        self.valid = data_list[int((1-valid_proportion)*len(data_list)):]\n",
    "        self.device = device\n",
    "        \n",
    "    def num_batches(self, batch_size):\n",
    "        return len(self.train)//batch_size        \n",
    "        \n",
    "    def next_batch(self, batch_size):\n",
    "        for i in range(self.num_batches(batch_size)):\n",
    "            batch_xs = torch.tensor(self.train[i * batch_size:(i + 1) * batch_size, :-1], dtype=torch.float32)\n",
    "            batch_ys = torch.tensor(self.train[i * batch_size:(i + 1) * batch_size,-1].ravel(), dtype=torch.int64)\n",
    "\n",
    "            yield batch_xs.to(device), batch_ys.to(device)"
   ]
  },
  {
   "cell_type": "code",
   "execution_count": 5,
   "metadata": {
    "id": "a9uSB2Q_fu_M"
   },
   "outputs": [],
   "source": [
    "class MyNet(torch.nn.Module):\n",
    "\n",
    "    def __init__(self, input_dim, output_dim):\n",
    "        super(MyNet, self).__init__()\n",
    "        # params:\n",
    "        input_dim = input_dim       # размерность входных признаков\n",
    "        n_nodes_hl1 = 256\n",
    "        n_nodes_hl2 = 256\n",
    "        n_nodes_hl3 = 256\n",
    "        n_nodes_hl4 = 256\n",
    "        output_dim = output_dim     # количество выходных классов (фонем)\n",
    "        # FC layers:\n",
    "        self.fc1 = nn.Linear(input_dim, n_nodes_hl1)\n",
    "        self.fc2 = nn.Linear(n_nodes_hl1, n_nodes_hl2)\n",
    "        self.fc3 = nn.Linear(n_nodes_hl2, n_nodes_hl3)\n",
    "        self.fc4 = nn.Linear(n_nodes_hl3, n_nodes_hl4)\n",
    "        self.fc5 = nn.Linear(n_nodes_hl4, output_dim)\n",
    "\n",
    "    def forward(self, x):\n",
    "        x = torch.relu(self.fc1(x))\n",
    "        x = torch.relu(self.fc2(x))\n",
    "        x = torch.relu(self.fc3(x))\n",
    "        x = torch.relu(self.fc4(x))\n",
    "        x = self.fc5(x)\n",
    "        return (x)"
   ]
  },
  {
   "cell_type": "code",
   "execution_count": 6,
   "metadata": {
    "id": "owcdDPb8fy2_"
   },
   "outputs": [
    {
     "name": "stdout",
     "output_type": "stream",
     "text": [
      "TRAINIG IS STARTED...\n"
     ]
    },
    {
     "data": {
      "application/vnd.jupyter.widget-view+json": {
       "model_id": "eac11a397c0b45fa9fabdc238090028b",
       "version_major": 2,
       "version_minor": 0
      },
      "text/plain": [
       "HBox(children=(HTML(value='epoch 0'), FloatProgress(value=0.0, max=4504.0), HTML(value='')))"
      ]
     },
     "metadata": {},
     "output_type": "display_data"
    },
    {
     "name": "stdout",
     "output_type": "stream",
     "text": [
      "\n",
      "loss is: 2.2801\n"
     ]
    },
    {
     "data": {
      "application/vnd.jupyter.widget-view+json": {
       "model_id": "12878dadbe404ac39f1082d417a670ca",
       "version_major": 2,
       "version_minor": 0
      },
      "text/plain": [
       "HBox(children=(HTML(value='epoch 1'), FloatProgress(value=0.0, max=4504.0), HTML(value='')))"
      ]
     },
     "metadata": {},
     "output_type": "display_data"
    },
    {
     "name": "stdout",
     "output_type": "stream",
     "text": [
      "\n",
      "loss is: 2.1604\n"
     ]
    },
    {
     "data": {
      "application/vnd.jupyter.widget-view+json": {
       "model_id": "64d379d02a05421ba3e2c5054da24720",
       "version_major": 2,
       "version_minor": 0
      },
      "text/plain": [
       "HBox(children=(HTML(value='epoch 2'), FloatProgress(value=0.0, max=4504.0), HTML(value='')))"
      ]
     },
     "metadata": {},
     "output_type": "display_data"
    },
    {
     "name": "stdout",
     "output_type": "stream",
     "text": [
      "\n",
      "loss is: 2.1240\n"
     ]
    },
    {
     "data": {
      "application/vnd.jupyter.widget-view+json": {
       "model_id": "2e66ee0d9436418381b71c42d0bf0893",
       "version_major": 2,
       "version_minor": 0
      },
      "text/plain": [
       "HBox(children=(HTML(value='epoch 3'), FloatProgress(value=0.0, max=4504.0), HTML(value='')))"
      ]
     },
     "metadata": {},
     "output_type": "display_data"
    },
    {
     "name": "stdout",
     "output_type": "stream",
     "text": [
      "\n",
      "loss is: 2.1004\n"
     ]
    },
    {
     "data": {
      "application/vnd.jupyter.widget-view+json": {
       "model_id": "014c4e06a06c4024987de05f1f29311d",
       "version_major": 2,
       "version_minor": 0
      },
      "text/plain": [
       "HBox(children=(HTML(value='epoch 4'), FloatProgress(value=0.0, max=4504.0), HTML(value='')))"
      ]
     },
     "metadata": {},
     "output_type": "display_data"
    },
    {
     "name": "stdout",
     "output_type": "stream",
     "text": [
      "\n",
      "loss is: 2.0825\n"
     ]
    },
    {
     "data": {
      "application/vnd.jupyter.widget-view+json": {
       "model_id": "80788386a7ef47f6be0916671eea563b",
       "version_major": 2,
       "version_minor": 0
      },
      "text/plain": [
       "HBox(children=(HTML(value='epoch 5'), FloatProgress(value=0.0, max=4504.0), HTML(value='')))"
      ]
     },
     "metadata": {},
     "output_type": "display_data"
    },
    {
     "name": "stdout",
     "output_type": "stream",
     "text": [
      "\n",
      "loss is: 2.0673\n"
     ]
    },
    {
     "data": {
      "application/vnd.jupyter.widget-view+json": {
       "model_id": "966ff8bc9b014b619ade273fe54f77d5",
       "version_major": 2,
       "version_minor": 0
      },
      "text/plain": [
       "HBox(children=(HTML(value='epoch 6'), FloatProgress(value=0.0, max=4504.0), HTML(value='')))"
      ]
     },
     "metadata": {},
     "output_type": "display_data"
    },
    {
     "name": "stdout",
     "output_type": "stream",
     "text": [
      "\n",
      "loss is: 2.0541\n"
     ]
    },
    {
     "data": {
      "application/vnd.jupyter.widget-view+json": {
       "model_id": "3ba63f40d68d4345ade78e31f3e19575",
       "version_major": 2,
       "version_minor": 0
      },
      "text/plain": [
       "HBox(children=(HTML(value='epoch 7'), FloatProgress(value=0.0, max=4504.0), HTML(value='')))"
      ]
     },
     "metadata": {},
     "output_type": "display_data"
    },
    {
     "name": "stdout",
     "output_type": "stream",
     "text": [
      "\n",
      "loss is: 2.0422\n"
     ]
    },
    {
     "data": {
      "application/vnd.jupyter.widget-view+json": {
       "model_id": "17d2ab03a09249f8895c20c8b4e4d325",
       "version_major": 2,
       "version_minor": 0
      },
      "text/plain": [
       "HBox(children=(HTML(value='epoch 8'), FloatProgress(value=0.0, max=4504.0), HTML(value='')))"
      ]
     },
     "metadata": {},
     "output_type": "display_data"
    },
    {
     "name": "stdout",
     "output_type": "stream",
     "text": [
      "\n",
      "loss is: 2.0313\n"
     ]
    },
    {
     "data": {
      "application/vnd.jupyter.widget-view+json": {
       "model_id": "1296bc605d374174a5bb32c39ba63131",
       "version_major": 2,
       "version_minor": 0
      },
      "text/plain": [
       "HBox(children=(HTML(value='epoch 9'), FloatProgress(value=0.0, max=4504.0), HTML(value='')))"
      ]
     },
     "metadata": {},
     "output_type": "display_data"
    },
    {
     "name": "stdout",
     "output_type": "stream",
     "text": [
      "\n",
      "loss is: 2.0210\n",
      "Time is: 4 min 24 sec\n"
     ]
    }
   ],
   "source": [
    "#device = torch.device('cuda' if torch.cuda.is_available() else 'cpu')\n",
    "device = torch.device('cpu')\n",
    "\n",
    "# load data:\n",
    "data_set = CommonDataSet(data_list, device)\n",
    "\n",
    "batch_size = 256\n",
    "\n",
    "# training network model:\n",
    "start = time.time() \n",
    "net = MyNet(input_dim=(data_list[0].shape[0] - 1),\n",
    "            output_dim=len(phones_dict.keys())).to(device)\n",
    "criterion = nn.CrossEntropyLoss()\n",
    "optimizer = torch.optim.Adam(net.parameters(), lr=0.0001)\n",
    "\n",
    "loss_list = []\n",
    "\n",
    "print('TRAINIG IS STARTED...')\n",
    "for epoch in range(10):\n",
    "    running_loss = 0\n",
    "    counter = 0\n",
    "    for batch_xs, batch_ys in tqdm(data_set.next_batch(batch_size), \\\n",
    "                                   total=data_set.num_batches(batch_size), \\\n",
    "                                   desc='epoch {}'.format(epoch)):\n",
    "        optimizer.zero_grad()\n",
    "        output = net(batch_xs)\n",
    "\n",
    "        loss = criterion(output, batch_ys)\n",
    "        loss.backward()\n",
    "        optimizer.step()\n",
    "        \n",
    "        running_loss += loss.item()\n",
    "        counter += 1\n",
    "        \n",
    "    print('loss is: {:.4f}'.format((running_loss / counter)))\n",
    "    loss_list.append(running_loss / counter)\n",
    "    \n",
    "end = time.time()\n",
    "minutes = (end - start) // 60\n",
    "seconds = np.mod((end - start), 60)\n",
    "print('Time is: {} min {} sec'.format(int(minutes), int(seconds)))"
   ]
  },
  {
   "cell_type": "code",
   "execution_count": 7,
   "metadata": {
    "id": "Eb6dlB11f9tJ"
   },
   "outputs": [
    {
     "data": {
      "image/png": "[encoded data removed]",
      "text/plain": [
       "<Figure size 1080x360 with 1 Axes>"
      ]
     },
     "metadata": {
      "needs_background": "light"
     },
     "output_type": "display_data"
    }
   ],
   "source": [
    "plt.rcParams['figure.figsize'] = (15.0, 5.0)\n",
    "plt.plot(loss_list)\n",
    "plt.title('Loss per epoch')\n",
    "plt.ylabel('loss')\n",
    "plt.xlabel('epoch')\n",
    "plt.grid()\n",
    "plt.show()"
   ]
  },
  {
   "cell_type": "code",
   "execution_count": 8,
   "metadata": {
    "id": "Og_i93uLf96T"
   },
   "outputs": [
    {
     "data": {
      "application/vnd.jupyter.widget-view+json": {
       "model_id": "1f40d04e8c8f4f25b071015a5d27c4d1",
       "version_major": 2,
       "version_minor": 0
      },
      "text/plain": [
       "HBox(children=(HTML(value=''), FloatProgress(value=0.0, max=128137.0), HTML(value='')))"
      ]
     },
     "metadata": {},
     "output_type": "display_data"
    },
    {
     "name": "stdout",
     "output_type": "stream",
     "text": [
      "\n",
      "Total frame accuracy is 0.428\n"
     ]
    }
   ],
   "source": [
    "net.cpu()\n",
    "with torch.no_grad():\n",
    "    correct_cnt = 0\n",
    "    for ftr, true_label in tqdm(zip(data_set.valid[:, :-1], data_set.valid[:, -1]), total=data_set.valid.shape[0]):\n",
    "        ftr = torch.from_numpy(ftr).float()\n",
    "        output = net.forward(ftr)\n",
    "        correct_cnt += (output.argmax().item() == true_label)\n",
    "        \n",
    "    print(\"Total frame accuracy is {:.3f}\".format(correct_cnt / data_set.valid.shape[0]))"
   ]
  },
  {
   "cell_type": "code",
   "execution_count": 9,
   "metadata": {
    "id": "nVyIFfWEgHHk"
   },
   "outputs": [
    {
     "data": {
      "application/vnd.jupyter.widget-view+json": {
       "model_id": "fb857759c19049c8b3dc657818215d10",
       "version_major": 2,
       "version_minor": 0
      },
      "text/plain": [
       "HBox(children=(HTML(value=''), FloatProgress(value=0.0, max=128137.0), HTML(value='')))"
      ]
     },
     "metadata": {},
     "output_type": "display_data"
    },
    {
     "name": "stdout",
     "output_type": "stream",
     "text": [
      "\n",
      "SIL: 0.96 : 21600/22490\n",
      "SPN: 0.01 : 9/705\n",
      "AA0: 0.00 : 0/33\n",
      "AA1: 0.30 : 554/1834\n",
      "AA2: 0.00 : 0/81\n",
      "AE0: 0.00 : 0/46\n",
      "AE1: 0.46 : 1722/3729\n",
      "AE2: 0.00 : 0/91\n",
      "AH0: 0.31 : 1698/5440\n",
      "AH1: 0.26 : 505/1912\n",
      "AH2: 0.03 : 2/59\n",
      "AO0: 0.00 : 0/21\n",
      "AO1: 0.44 : 859/1949\n",
      "AO2: 0.00 : 0/72\n",
      "AW0: 0.00 : 0/4\n",
      "AW1: 0.05 : 53/1031\n",
      "AW2: 0.00 : 0/45\n",
      "AY0: 0.00 : 0/28\n",
      "AY1: 0.28 : 821/2886\n",
      "AY2: 0.00 : 0/167\n",
      "B  : 0.11 : 169/1509\n",
      "CH : 0.05 : 48/906\n",
      "D  : 0.18 : 706/3903\n",
      "DH : 0.03 : 66/1976\n",
      "EH0: 0.00 : 0/63\n",
      "EH1: 0.27 : 760/2867\n",
      "EH2: 0.00 : 0/90\n",
      "ER0: 0.23 : 618/2700\n",
      "ER1: 0.10 : 103/983\n",
      "ER2: 0.00 : 0/17\n",
      "EY0: 0.00 : 0/34\n",
      "EY1: 0.40 : 1000/2483\n",
      "EY2: 0.00 : 0/133\n",
      "F  : 0.48 : 1148/2412\n",
      "G  : 0.02 : 15/812\n",
      "HH : 0.25 : 543/2142\n",
      "IH0: 0.08 : 202/2689\n",
      "IH1: 0.12 : 281/2364\n",
      "IH2: 0.00 : 0/86\n",
      "IY0: 0.21 : 496/2310\n",
      "IY1: 0.62 : 1451/2344\n",
      "IY2: 0.00 : 0/45\n",
      "JH : 0.02 : 12/658\n",
      "K  : 0.24 : 742/3106\n",
      "L  : 0.51 : 2148/4207\n",
      "M  : 0.35 : 1087/3127\n",
      "N  : 0.42 : 2628/6251\n",
      "NG : 0.11 : 153/1372\n",
      "OW0: 0.00 : 0/186\n",
      "OW1: 0.27 : 520/1893\n",
      "OW2: 0.00 : 0/84\n",
      "OY1: 0.00 : 1/231\n",
      "OY2: 0.00 : 0/2\n",
      "P  : 0.09 : 189/2172\n",
      "R  : 0.59 : 2274/3853\n",
      "S  : 0.73 : 4885/6735\n",
      "SH : 0.60 : 795/1325\n",
      "T  : 0.22 : 1404/6392\n",
      "TH : 0.00 : 3/752\n",
      "UH0: 0.00 : 0/3\n",
      "UH1: 0.02 : 7/396\n",
      "UH2: 0.00 : 0/8\n",
      "UW0: 0.00 : 0/75\n",
      "UW1: 0.20 : 305/1558\n",
      "UW2: 0.00 : 0/43\n",
      "V  : 0.17 : 299/1735\n",
      "W  : 0.34 : 799/2339\n",
      "Y  : 0.07 : 46/677\n",
      "Z  : 0.34 : 1170/3411\n",
      "ZH : 0.04 : 2/55\n"
     ]
    }
   ],
   "source": [
    "class_correct = [0 for x in range(len(phones_dict.keys()))]\n",
    "class_total = [0 for x in range(len(phones_dict.keys()))]\n",
    "net.cpu()\n",
    "with torch.no_grad():\n",
    "    for ftr, true_label in tqdm(zip(data_set.valid[:, :-1], data_set.valid[:, -1]), total=data_set.valid.shape[0]):\n",
    "        ftr = torch.from_numpy(ftr).float()\n",
    "        output = net.forward(ftr)\n",
    "        predict_label = output.argmax().item()\n",
    "        \n",
    "        class_correct[predict_label] += (predict_label == int(true_label))\n",
    "        class_total[int(true_label)] += 1\n",
    "\n",
    "for idx, phone in enumerate(phones_dict.keys()):\n",
    "    if class_total[idx]:\n",
    "        print('{:3s}: {:.2f} : {}/{}'.format(phone, class_correct[idx] / class_total[idx], \\\n",
    "                                                     class_correct[idx], class_total[idx]))"
   ]
  },
  {
   "cell_type": "markdown",
   "metadata": {
    "id": "nIRfRzMYgNn5"
   },
   "source": [
    "### Распознавание по словарю с помощью нейронки"
   ]
  },
  {
   "cell_type": "code",
   "execution_count": 10,
   "metadata": {
    "id": "BaGrFSm9gOYK"
   },
   "outputs": [],
   "source": [
    "# теперь будем распознавать по словарю, состоящему из конечных слов\n",
    "# для этого нужно загрузить файл лексикона, который определяет из каких фонем состоят наши слова\n",
    "def load_lexicon_dict(lexicon_file):\n",
    "    lexicon_dict = {}\n",
    "    with open(lexicon_file, encoding='utf-8') as fn:\n",
    "        for line in fn:\n",
    "            line = line.strip().split()\n",
    "            lexicon_dict[line[0]] = line[1:]\n",
    "    return lexicon_dict"
   ]
  },
  {
   "cell_type": "code",
   "execution_count": 11,
   "metadata": {
    "id": "-Nyn975_gSXX"
   },
   "outputs": [],
   "source": [
    "class AcousticModel:\n",
    "    def __init__(self, phone_name, phone_index, priors_list):\n",
    "        self.phone_name = phone_name\n",
    "        self.phone_index = phone_index\n",
    "        self.phone_prior = priors_list[phone_index]\n",
    "        \n",
    "    def distance(self, input_feats, nnet):\n",
    "        with torch.no_grad():\n",
    "            predicts = nnet.forward(torch.tensor(input_feats, dtype=torch.float32))\n",
    "            softmax = torch.nn.functional.softmax(predicts, dim=0)\n",
    "        return -np.log(softmax[self.phone_index].item() / self.phone_prior)\n",
    "\n",
    "class State:\n",
    "    def __init__(self, model, index):  \n",
    "        self.model = model                     # вектор признаков узла\n",
    "        self.is_final = False                  # является ли этот узел финальнвм в слове\n",
    "        self.word = None                       # слово эталона (назначается только для финального узла)\n",
    "        self.best_token = None                 # лучший токен (по минимуму дистанции) в узле\n",
    "        self.current_word = None               # текущее слово эталона\n",
    "        self.next_states = []                  # список следующих узлов\n",
    "        self.index = index                     # индекс узла \n",
    "\n",
    "        \n",
    "def load_graph(lexicon_dict, phones_dict, priors_list):\n",
    "    start_state = State(None, 0)\n",
    "    graph = [start_state, ]\n",
    "    state_index = 1\n",
    "    for word in lexicon_dict.keys():\n",
    "        previous_state = start_state\n",
    "        for phone in lexicon_dict[word]:\n",
    "            state = State(AcousticModel(phone, phones_dict[phone], priors_list), state_index)\n",
    "            state.current_word = word           # слово эталона теперь будет храниться в каждом узле\n",
    "            state.next_states.append(state)     # add loop\n",
    "            previous_state.next_states.append(state)\n",
    "            previous_state = state \n",
    "            graph.append(state)\n",
    "            state_index += 1\n",
    "        if state:\n",
    "            state.word = word\n",
    "            state.is_final = True\n",
    "    return graph"
   ]
  },
  {
   "cell_type": "code",
   "execution_count": 12,
   "metadata": {
    "id": "lK9ZeJzJgXp7"
   },
   "outputs": [],
   "source": [
    "class Token:\n",
    "    def __init__(self, state, dist=0.0, word=\"\"):\n",
    "        self.state = state       # стейт графа, в котором токен находится в текущий момент\n",
    "        self.dist = dist         # общая накопленная дистанция пути, пройденного токеном\n",
    "        self.word = word         # слово, которое распозналось токеном\n",
    "        self.alive = True\n",
    "\n",
    "\n",
    "def beam_pruning(next_tokens, threshold):   \n",
    "    alive_tokens = [token for token in next_tokens if token.alive]\n",
    "    best_token = alive_tokens[np.argmin([token.dist for token in alive_tokens if token.alive])]\n",
    "    for token in next_tokens:\n",
    "        if token.dist > best_token.dist + threshold:\n",
    "            token.alive = False\n",
    "    return next_tokens\n",
    "\n",
    "\n",
    "def state_pruning(next_tokens):\n",
    "    for i in range(len(next_tokens)): \n",
    "        state_index = next_tokens[i].state.index\n",
    "        if not graph[state_index].best_token:\n",
    "            graph[state_index].best_token = next_tokens[i]\n",
    "        else:\n",
    "            if next_tokens[i].dist <= graph[state_index].best_token.dist:\n",
    "                graph[state_index].best_token.alive = False\n",
    "                graph[state_index].best_token = next_tokens[i]\n",
    "            else:\n",
    "                next_tokens[i].alive = False\n",
    "    for token in next_tokens:                           \n",
    "        index = token.state.index                        \n",
    "        if graph[index].best_token:                     \n",
    "            graph[index].best_token = None              \n",
    "    return next_tokens\n",
    "\n",
    "\n",
    "def recognize(filename, features, graph, nnet, recognition_results, beam_threshold):\n",
    "\n",
    "    start_state = graph[0]\n",
    "    active_tokens = [Token(start_state), ]\n",
    "    next_tokens = []\n",
    "    \n",
    "    for frame in range(len(features)):\n",
    "        ftr_frame = features[frame]\n",
    "        for token in active_tokens:\n",
    "            if token.alive:\n",
    "                for transition_state in token.state.next_states:\n",
    "                    new_token = Token(transition_state, token.dist, token.word)\n",
    "                    new_token.dist += transition_state.model.distance(ftr_frame, nnet)\n",
    "                    next_tokens.append(new_token)\n",
    "        # state and beam prunings:\n",
    "        next_tokens = state_pruning(next_tokens)         \n",
    "        next_tokens = beam_pruning(next_tokens, beam_threshold) \n",
    "\n",
    "        active_tokens = next_tokens\n",
    "        next_tokens = []                                    \n",
    "        \n",
    "    # поиск финальных токенов:\n",
    "    final_tokens = []\n",
    "    for token in active_tokens:\n",
    "        if token.state.is_final and token.alive:\n",
    "            final_tokens.append(token)\n",
    "\n",
    "    # если нет финальных, то берем лучший из выживших:\n",
    "    if len(final_tokens) != 0:\n",
    "        win_token = final_tokens[np.argmin([token.dist for token in final_tokens])]\n",
    "    else:\n",
    "        alive_tokens = [token for token in active_tokens if token.alive]\n",
    "        win_token = alive_tokens[np.argmin([token.dist for token in alive_tokens])]\n",
    "        win_token.state.word = win_token.state.current_word\n",
    "\n",
    "    # вывод результата\n",
    "    print(f\"result: {filename:<27} ==> {win_token.state.word}\")\n",
    "\n",
    "    # совпадает ли запись с полученным эталоном:  \n",
    "    record_word = filename.split('_')[0]\n",
    "    etalon_word = win_token.state.word.split('_')[0]\n",
    "    recognition_results.append(etalon_word.lower() == record_word)\n",
    "\n",
    "    return recognition_results"
   ]
  },
  {
   "cell_type": "code",
   "execution_count": 13,
   "metadata": {
    "id": "mr-Eg4ejgait"
   },
   "outputs": [],
   "source": [
    "def run_recognizer(records_data_dict, graph, nnet, beam_threshold=10):\n",
    "    start_time = time.time()\n",
    "    recognition_results = []\n",
    "\n",
    "    for filename in records_data_dict.keys():    \n",
    "        recognition_results = recognize(filename,\n",
    "                                        records_data_dict[filename],\n",
    "                                        graph, nnet,\n",
    "                                        recognition_results, beam_threshold)\n",
    "\n",
    "    print(\"-\" * 60)\n",
    "    print(f\"WER is: {(1 - sum(recognition_results)/len(recognition_results))*100:.2f}%\")\n",
    "    print(f\"Total time is: {time.time() - start_time:.2f} sec\")\n",
    "    print(\"-\" * 60)"
   ]
  },
  {
   "cell_type": "markdown",
   "metadata": {
    "id": "mwf8Fl3ffkM_"
   },
   "source": [
    "### Запустим распознавание на базе YES_NO"
   ]
  },
  {
   "cell_type": "code",
   "execution_count": 14,
   "metadata": {
    "id": "knH2AK1-gfD3"
   },
   "outputs": [
    {
     "data": {
      "application/vnd.jupyter.widget-view+json": {
       "model_id": "5a88dd20ede24669837181e4a152c7d7",
       "version_major": 2,
       "version_minor": 0
      },
      "text/plain": [
       "HBox(children=(HTML(value=''), FloatProgress(value=0.0, max=10.0), HTML(value='')))"
      ]
     },
     "metadata": {},
     "output_type": "display_data"
    },
    {
     "name": "stdout",
     "output_type": "stream",
     "text": [
      "\n",
      "result: no_ad89eb1e_nohash_0        ==> NO\n",
      "result: yes_fc94edb0_nohash_0       ==> YES\n",
      "result: no_41474817_nohash_0        ==> NO\n",
      "result: yes_39a12648_nohash_0       ==> YES\n",
      "result: yes_ff63ab0b_nohash_0       ==> YES\n",
      "result: yes_fe1916ba_nohash_0       ==> YES\n",
      "result: no_49af4432_nohash_0        ==> NO\n",
      "result: no_4394fc7c_nohash_0        ==> YES\n",
      "result: no_4abb2400_nohash_0        ==> YES\n",
      "result: yes_39a6b995_nohash_0       ==> YES\n",
      "------------------------------------------------------------\n",
      "WER is: 20.00%\n",
      "Total time is: 2.45 sec\n",
      "------------------------------------------------------------\n"
     ]
    }
   ],
   "source": [
    "lexicon_file = 'resources/lexicon_yes_no.txt'\n",
    "lexicon_dict = load_lexicon_dict(lexicon_file)\n",
    "graph = load_graph(lexicon_dict, phones_dict, priors_list)\n",
    "records_data_dict = load_data_dict(\"resources/yes_no/records\")\n",
    "\n",
    "run_recognizer(records_data_dict, graph, net.cpu(), beam_threshold=100)"
   ]
  },
  {
   "cell_type": "markdown",
   "metadata": {
    "id": "1mIcRKQNfl35"
   },
   "source": [
    "### Запустим распознавание на базе Digits"
   ]
  },
  {
   "cell_type": "code",
   "execution_count": 15,
   "metadata": {
    "id": "D862ICRZgf2V"
   },
   "outputs": [
    {
     "data": {
      "application/vnd.jupyter.widget-view+json": {
       "model_id": "9629b82170ff4ea8920e85f44b2f07e9",
       "version_major": 2,
       "version_minor": 0
      },
      "text/plain": [
       "HBox(children=(HTML(value=''), FloatProgress(value=0.0, max=20.0), HTML(value='')))"
      ]
     },
     "metadata": {},
     "output_type": "display_data"
    },
    {
     "name": "stdout",
     "output_type": "stream",
     "text": [
      "\n",
      "result: zero_f852895b_nohash_0      ==> SEVEN\n",
      "result: four_ffbb695d_nohash_0      ==> FOUR\n",
      "result: nine_fbe51750_nohash_0      ==> NINE\n",
      "result: five_ffd2ba2f_nohash_0      ==> FIVE\n",
      "result: zero_f92e49f3_nohash_3      ==> ZERO\n",
      "result: one_fc2411fe_nohash_0       ==> NINE\n",
      "result: eight_daf230ac_nohash_0     ==> EIGHT\n",
      "result: three_feb1d305_nohash_0     ==> THREE\n",
      "result: four_fce65496_nohash_0      ==> FOUR\n",
      "result: seven_fd32732a_nohash_0     ==> SEVEN\n",
      "result: seven_fe5c4a7a_nohash_0     ==> SEVEN\n",
      "result: nine_ccea893d_nohash_0      ==> NINE\n",
      "result: eight_da584bc0_nohash_4     ==> SIX\n",
      "result: five_f852895b_nohash_0      ==> FIVE\n",
      "result: two_fce65496_nohash_0       ==> TWO\n",
      "result: three_fce96bac_nohash_0     ==> THREE\n",
      "result: six_ffbb695d_nohash_0       ==> SIX\n",
      "result: six_ffd2ba2f_nohash_0       ==> SIX\n",
      "result: two_fb2f3242_nohash_0       ==> TWO\n",
      "result: one_ffa76c4a_nohash_0       ==> FOUR\n",
      "------------------------------------------------------------\n",
      "WER is: 20.00%\n",
      "Total time is: 20.81 sec\n",
      "------------------------------------------------------------\n"
     ]
    }
   ],
   "source": [
    "lexicon_file = 'resources/lexicon_digits.txt'\n",
    "lexicon_dict = load_lexicon_dict(lexicon_file)\n",
    "graph = load_graph(lexicon_dict, phones_dict, priors_list)\n",
    "records_data_dict = load_data_dict(\"resources/digits/records\")\n",
    "\n",
    "run_recognizer(records_data_dict, graph, net.cpu(), beam_threshold=50)"
   ]
  },
  {
   "cell_type": "markdown",
   "metadata": {
    "id": "BKFMxsxkgioi"
   },
   "source": [
    "### <b>Задание №1</b> (5 баллов):\n",
    "Реализовать контексты для входных признаков путем конкатенации кадров слева и справа от текущего. Не забудьте поддержать это и в функции распознавания. Насколько улучшилось качество на дата сетах?\n",
    "\n",
    "![](https://drive.google.com/uc?export=view&id=1ft0z6CPhX20cJnA373uLoYwHPEagaKyo)"
   ]
  },
  {
   "cell_type": "code",
   "execution_count": 16,
   "metadata": {},
   "outputs": [],
   "source": [
    "def combain_data(ali_dict, feats_dict, phones_dict, side_context=0, strip=1):\n",
    "    data_list = []\n",
    "    priors_list = [0] * len(phones_dict)\n",
    "    for file_name in feats_dict.keys():\n",
    "        file_feats = feats_dict[file_name]\n",
    "        file_ali = ali_dict[file_name]\n",
    "        file_feats_len = min(len(file_feats), len(file_ali))\n",
    "        file_feats = np.vstack((np.tile(file_feats[0], (side_context,1)), file_feats)) #Добавляем повторение первого элемента в начало side_context раз\n",
    "        file_feats = np.vstack((file_feats, (np.tile(file_feats[-1], (side_context,1))))) #Добавляем повторение посоедннго элемента в конец side_context раз\n",
    "        for frame in range(side_context, file_feats_len):\n",
    "            slice_feat = file_feats[frame - side_context: frame + side_context + 1:strip]\n",
    "            feats = slice_feat.reshape(file_feats[frame].shape[0] * slice_feat.shape[0], )\n",
    "            data_list.append(np.append(feats, phones_dict[file_ali[frame]]))\n",
    "            priors_list[phones_dict[file_ali[frame]]] += 1\n",
    "    \n",
    "    return data_list, np.array(priors_list)/sum(priors_list)"
   ]
  },
  {
   "cell_type": "code",
   "execution_count": 17,
   "metadata": {},
   "outputs": [],
   "source": [
    "def recognize(filename, features, graph, nnet, recognition_results, beam_threshold, side_context=0, strip=1):\n",
    "\n",
    "    start_state = graph[0]\n",
    "    active_tokens = [Token(start_state), ]\n",
    "    next_tokens = []\n",
    "    feat_len = len(features)\n",
    "    features = np.vstack((np.tile(features[0], (side_context,1)), features))\n",
    "    features = np.vstack((features, (np.tile(features[-1], (side_context,1)))))\n",
    "    for frame in range(side_context, feat_len):\n",
    "        slice_feat = features[frame - side_context: frame + side_context + 1:strip]\n",
    "        ftr_frame = slice_feat.reshape(features[frame].shape[0] * slice_feat.shape[0], )\n",
    "        for token in active_tokens:\n",
    "            if token.alive:\n",
    "                for transition_state in token.state.next_states:\n",
    "                    new_token = Token(transition_state, token.dist, token.word)\n",
    "                    new_token.dist += transition_state.model.distance(ftr_frame, nnet)\n",
    "                    next_tokens.append(new_token)\n",
    "        # state and beam prunings:\n",
    "        next_tokens = state_pruning(next_tokens)         \n",
    "        next_tokens = beam_pruning(next_tokens, beam_threshold) \n",
    "\n",
    "        active_tokens = next_tokens\n",
    "        next_tokens = []                                    \n",
    "        \n",
    "    # поиск финальных токенов:\n",
    "    final_tokens = []\n",
    "    for token in active_tokens:\n",
    "        if token.state.is_final and token.alive:\n",
    "            final_tokens.append(token)\n",
    "\n",
    "    # если нет финальных, то берем лучший из выживших:\n",
    "    if len(final_tokens) != 0:\n",
    "        win_token = final_tokens[np.argmin([token.dist for token in final_tokens])]\n",
    "    else:\n",
    "        alive_tokens = [token for token in active_tokens if token.alive]\n",
    "        win_token = alive_tokens[np.argmin([token.dist for token in alive_tokens])]\n",
    "        win_token.state.word = win_token.state.current_word\n",
    "\n",
    "    # совпадает ли запись с полученным эталоном:  \n",
    "    record_word = filename.split('_')[0]\n",
    "    etalon_word = win_token.state.word.split('_')[0]\n",
    "    recognition_results.append(etalon_word.lower() == record_word)\n",
    "\n",
    "    return recognition_results\n",
    "\n",
    "def run_recognizer(records_data_dict, graph, nnet, beam_threshold=10, side_context=0, strip=1):\n",
    "    recognition_results = []\n",
    "\n",
    "    for filename in records_data_dict.keys():    \n",
    "        recognition_results = recognize(filename,\n",
    "                                        records_data_dict[filename],\n",
    "                                        graph, nnet,\n",
    "                                        recognition_results, beam_threshold, side_context, strip)\n",
    "\n",
    "    WER = round((1 - sum(recognition_results)/len(recognition_results))*100, 2)\n",
    "    return WER"
   ]
  },
  {
   "cell_type": "code",
   "execution_count": 18,
   "metadata": {},
   "outputs": [],
   "source": [
    "LOAD_DATA = True"
   ]
  },
  {
   "cell_type": "code",
   "execution_count": 19,
   "metadata": {},
   "outputs": [],
   "source": [
    "if LOAD_DATA == False:\n",
    "    context_result = dict()\n",
    "    for side_context, strip, name in zip(\n",
    "                                        [0, 1, 2, 2, 3, 3],\n",
    "                                        [1, 1, 1, 2, 1, 3],\n",
    "                                        ['side_context-0-strip-1',\n",
    "                                         'side_context-1-strip-1',\n",
    "                                         'side_context-2-strip-1',\n",
    "                                         'side_context-2-strip-2',\n",
    "                                         'side_context-3-strip-1',\n",
    "                                         'side_context-3-strip-3']\n",
    "                                        ):\n",
    "        context_result[name] = {}\n",
    "        data_list, priors_list = combain_data(ali_dict, feats_dict, phones_dict, side_context, strip)\n",
    "        data_list = np.random.permutation(data_list)\n",
    "        device = torch.device('cpu')\n",
    "        data_set = CommonDataSet(data_list, device)\n",
    "        batch_size = 256\n",
    "\n",
    "        # training network model:\n",
    "        start = time.time() \n",
    "        net = MyNet(input_dim=(data_list[0].shape[0] - 1),\n",
    "                    output_dim=len(phones_dict.keys())).to(device)\n",
    "        criterion = nn.CrossEntropyLoss()\n",
    "        optimizer = torch.optim.Adam(net.parameters(), lr=0.0001)\n",
    "\n",
    "        loss_list = []\n",
    "\n",
    "        print(f'Training is started for {name}')\n",
    "        for epoch in tqdm(range(10)):\n",
    "            running_loss = 0\n",
    "            counter = 0\n",
    "            for batch_xs, batch_ys in data_set.next_batch(batch_size):\n",
    "                optimizer.zero_grad()\n",
    "                output = net(batch_xs)\n",
    "\n",
    "                loss = criterion(output, batch_ys)\n",
    "                loss.backward()\n",
    "                optimizer.step()\n",
    "\n",
    "                running_loss += loss.item()\n",
    "                counter += 1\n",
    "\n",
    "            loss_list.append(running_loss / counter)\n",
    "        context_result[name]['loss'] = loss_list\n",
    "\n",
    "        net.cpu()\n",
    "        with torch.no_grad():\n",
    "            correct_cnt = 0\n",
    "            for ftr, true_label in zip(data_set.valid[:, :-1], data_set.valid[:, -1]):\n",
    "                ftr = torch.from_numpy(ftr).float()\n",
    "                output = net.forward(ftr)\n",
    "                correct_cnt += (output.argmax().item() == true_label)\n",
    "        frame_accuracy = round(correct_cnt / data_set.valid.shape[0], 3)\n",
    "        context_result[name]['accuracy'] = frame_accuracy\n",
    "\n",
    "        class_correct = [0 for x in range(len(phones_dict.keys()))]\n",
    "        class_total = [0 for x in range(len(phones_dict.keys()))]\n",
    "        net.cpu()\n",
    "        with torch.no_grad():\n",
    "            for ftr, true_label in zip(data_set.valid[:, :-1], data_set.valid[:, -1]):\n",
    "                ftr = torch.from_numpy(ftr).float()\n",
    "                output = net.forward(ftr)\n",
    "                predict_label = output.argmax().item()\n",
    "\n",
    "                class_correct[predict_label] += (predict_label == int(true_label))\n",
    "                class_total[int(true_label)] += 1\n",
    "\n",
    "        context_result[name]['class_correct'] = class_correct\n",
    "        context_result[name]['class_total'] = class_total\n",
    "\n",
    "        lexicon_file = 'resources/lexicon_yes_no.txt'\n",
    "        lexicon_dict = load_lexicon_dict(lexicon_file)\n",
    "        graph = load_graph(lexicon_dict, phones_dict, priors_list)\n",
    "        records_data_dict = load_data_dict(\"resources/yes_no/records\")\n",
    "        WER_yes_no = run_recognizer(records_data_dict, graph, net.cpu(), beam_threshold=100, side_context=side_context, strip=strip)     \n",
    "\n",
    "        lexicon_file = 'resources/lexicon_digits.txt'\n",
    "        lexicon_dict = load_lexicon_dict(lexicon_file)\n",
    "        graph = load_graph(lexicon_dict, phones_dict, priors_list)\n",
    "        records_data_dict = load_data_dict(\"resources/digits/records\")\n",
    "        WER_digits = run_recognizer(records_data_dict, graph, net.cpu(), beam_threshold=50, side_context=side_context, strip=strip)\n",
    "\n",
    "        context_result[name]['WER_yes_no'] = WER_yes_no\n",
    "        context_result[name]['WER_digits'] = WER_digits\n",
    "        \n",
    "    with open('resources/result-lab-02-04/result.json', 'w') as fp:\n",
    "        json.dump(context_result, fp)\n",
    "        \n",
    "else:\n",
    "    with open('resources/result-lab-02-04/result.txt', 'r') as fp:\n",
    "        context_result = json.load(fp)"
   ]
  },
  {
   "cell_type": "code",
   "execution_count": 20,
   "metadata": {},
   "outputs": [
    {
     "data": {
      "image/png": "[encoded data removed]",
      "text/plain": [
       "<Figure size 1080x360 with 1 Axes>"
      ]
     },
     "metadata": {
      "needs_background": "light"
     },
     "output_type": "display_data"
    }
   ],
   "source": [
    "plt.rcParams['figure.figsize'] = (15.0, 5.0)\n",
    "for name in context_result.keys():\n",
    "    plt.plot(context_result[name]['loss'], label=name)\n",
    "plt.title('Loss per epoch')\n",
    "plt.ylabel('loss')\n",
    "plt.xlabel('epoch')\n",
    "plt.legend()\n",
    "plt.grid()\n",
    "plt.show()"
   ]
  },
  {
   "cell_type": "code",
   "execution_count": 21,
   "metadata": {},
   "outputs": [
    {
     "name": "stdout",
     "output_type": "stream",
     "text": [
      "Model Accuracy\n",
      "side_context-0-strip-1 --- 0.426\n",
      "side_context-1-strip-1 --- 0.497\n",
      "side_context-2-strip-1 --- 0.528\n",
      "side_context-2-strip-2 --- 0.522\n",
      "side_context-3-strip-1 --- 0.551\n",
      "side_context-3-strip-3 --- 0.531\n"
     ]
    }
   ],
   "source": [
    "print('Model Accuracy')\n",
    "for name in context_result.keys():\n",
    "    print(f\"{name} --- {context_result[name]['accuracy']}\")"
   ]
  },
  {
   "cell_type": "code",
   "execution_count": 22,
   "metadata": {},
   "outputs": [
    {
     "name": "stdout",
     "output_type": "stream",
     "text": [
      "Model WER_yes_no\n",
      "side_context-0-strip-1 --- 20.0\n",
      "side_context-1-strip-1 --- 0.0\n",
      "side_context-2-strip-1 --- 10.0\n",
      "side_context-2-strip-2 --- 10.0\n",
      "side_context-3-strip-1 --- 0.0\n",
      "side_context-3-strip-3 --- 0.0\n"
     ]
    }
   ],
   "source": [
    "print('Model WER_yes_no')\n",
    "for name in context_result.keys():\n",
    "    print(f\"{name} --- {context_result[name]['WER_yes_no']}\")"
   ]
  },
  {
   "cell_type": "code",
   "execution_count": 23,
   "metadata": {},
   "outputs": [
    {
     "name": "stdout",
     "output_type": "stream",
     "text": [
      "Model WER_digits\n",
      "side_context-0-strip-1 --- 20.0\n",
      "side_context-1-strip-1 --- 10.0\n",
      "side_context-2-strip-1 --- 0.0\n",
      "side_context-2-strip-2 --- 5.0\n",
      "side_context-3-strip-1 --- 5.0\n",
      "side_context-3-strip-3 --- 0.0\n"
     ]
    }
   ],
   "source": [
    "print('Model WER_digits')\n",
    "for name in context_result.keys():\n",
    "    print(f\"{name} --- {context_result[name]['WER_digits']}\")"
   ]
  },
  {
   "cell_type": "markdown",
   "metadata": {},
   "source": [
    "### Выводы: Протестированы различные варинаты контекста side-context-{размер окна влево и вправо}-{через сколько элементов берутся фичи}. При всех их лосс уменьшился очень сильно при обучении. Сама точность модели увеличилась. А WER на датасетах уменьшились."
   ]
  },
  {
   "cell_type": "markdown",
   "metadata": {
    "id": "8t1Wg-zJg0tR"
   },
   "source": [
    "### <b>Задание №2</b> (5 баллов):\n",
    "Повысить качество классификации фонем за счет улучшения архитектуры нейронной сети, оптимизатора, других речевых признаков и т.п. Составить небольшой отчет на основе результатов перебора использованных способов. "
   ]
  },
  {
   "cell_type": "code",
   "execution_count": 30,
   "metadata": {},
   "outputs": [],
   "source": [
    "data_list, priors_list = combain_data(ali_dict, feats_dict, phones_dict, 3, 1)\n",
    "data_list = np.random.permutation(data_list)"
   ]
  },
  {
   "cell_type": "code",
   "execution_count": 33,
   "metadata": {},
   "outputs": [],
   "source": [
    "class NewNet(torch.nn.Module):\n",
    "    \n",
    "    def __init__(self, input_dim, output_dim):\n",
    "        super(NewNet, self).__init__()\n",
    "        # params:\n",
    "        input_dim = input_dim       # размерность входных признаков\n",
    "        n_nodes_hl1 = 1024\n",
    "        n_nodes_hl2 = 512\n",
    "        n_nodes_hl3 = 256\n",
    "        n_nodes_hl4 = 256\n",
    "        n_nodes_hl5 = 128\n",
    "        output_dim = output_dim     # количество выходных классов (фонем)\n",
    "        # FC layers:\n",
    "\n",
    "        self.fc1 = nn.Linear(input_dim, n_nodes_hl1)\n",
    "        self.fc2 = nn.Linear(n_nodes_hl1, n_nodes_hl2)\n",
    "        self.fc3 = nn.Linear(n_nodes_hl2, n_nodes_hl3)\n",
    "        self.fc4 = nn.Linear(n_nodes_hl4, n_nodes_hl4)\n",
    "        self.fc5 = nn.Linear(n_nodes_hl4, n_nodes_hl5)\n",
    "        self.fc6 = nn.Linear(n_nodes_hl5, output_dim)        \n",
    "    \n",
    "    def forward(self, x):  \n",
    "\n",
    "        x = torch.relu(self.fc1(x))\n",
    "        x = torch.relu(self.fc2(x))\n",
    "        x = torch.relu(self.fc3(x))\n",
    "        x = torch.relu(self.fc4(x))\n",
    "        x = torch.relu(self.fc5(x))\n",
    "        x = self.fc6(x)\n",
    "        \n",
    "        return (x)"
   ]
  },
  {
   "cell_type": "code",
   "execution_count": 34,
   "metadata": {},
   "outputs": [
    {
     "name": "stdout",
     "output_type": "stream",
     "text": [
      "TRAINIG IS STARTED...\n"
     ]
    },
    {
     "data": {
      "application/vnd.jupyter.widget-view+json": {
       "model_id": "294f3a2b04b64597885abe0b470d63f0",
       "version_major": 2,
       "version_minor": 0
      },
      "text/plain": [
       "HBox(children=(HTML(value='epoch 0'), FloatProgress(value=0.0, max=4494.0), HTML(value='')))"
      ]
     },
     "metadata": {},
     "output_type": "display_data"
    },
    {
     "name": "stdout",
     "output_type": "stream",
     "text": [
      "\n",
      "loss is: 2.1159\n"
     ]
    },
    {
     "data": {
      "application/vnd.jupyter.widget-view+json": {
       "model_id": "47cf1219e8944f67916a2b6279ffd79d",
       "version_major": 2,
       "version_minor": 0
      },
      "text/plain": [
       "HBox(children=(HTML(value='epoch 1'), FloatProgress(value=0.0, max=4494.0), HTML(value='')))"
      ]
     },
     "metadata": {},
     "output_type": "display_data"
    },
    {
     "name": "stdout",
     "output_type": "stream",
     "text": [
      "\n",
      "loss is: 1.8555\n"
     ]
    },
    {
     "data": {
      "application/vnd.jupyter.widget-view+json": {
       "model_id": "605685bbbc9d435aae3207a30d058c86",
       "version_major": 2,
       "version_minor": 0
      },
      "text/plain": [
       "HBox(children=(HTML(value='epoch 2'), FloatProgress(value=0.0, max=4494.0), HTML(value='')))"
      ]
     },
     "metadata": {},
     "output_type": "display_data"
    },
    {
     "name": "stdout",
     "output_type": "stream",
     "text": [
      "\n",
      "loss is: 1.7691\n"
     ]
    },
    {
     "data": {
      "application/vnd.jupyter.widget-view+json": {
       "model_id": "03e7755650c945fe9787e149f9180504",
       "version_major": 2,
       "version_minor": 0
      },
      "text/plain": [
       "HBox(children=(HTML(value='epoch 3'), FloatProgress(value=0.0, max=4494.0), HTML(value='')))"
      ]
     },
     "metadata": {},
     "output_type": "display_data"
    },
    {
     "name": "stdout",
     "output_type": "stream",
     "text": [
      "\n",
      "loss is: 1.7146\n"
     ]
    },
    {
     "data": {
      "application/vnd.jupyter.widget-view+json": {
       "model_id": "291e415d6a834fc19d94468ee419d116",
       "version_major": 2,
       "version_minor": 0
      },
      "text/plain": [
       "HBox(children=(HTML(value='epoch 4'), FloatProgress(value=0.0, max=4494.0), HTML(value='')))"
      ]
     },
     "metadata": {},
     "output_type": "display_data"
    },
    {
     "name": "stdout",
     "output_type": "stream",
     "text": [
      "\n",
      "loss is: 1.6747\n"
     ]
    },
    {
     "data": {
      "application/vnd.jupyter.widget-view+json": {
       "model_id": "b6d872515a7d48a4a32b5a675bc9b72c",
       "version_major": 2,
       "version_minor": 0
      },
      "text/plain": [
       "HBox(children=(HTML(value='epoch 5'), FloatProgress(value=0.0, max=4494.0), HTML(value='')))"
      ]
     },
     "metadata": {},
     "output_type": "display_data"
    },
    {
     "name": "stdout",
     "output_type": "stream",
     "text": [
      "\n",
      "loss is: 1.6424\n"
     ]
    },
    {
     "data": {
      "application/vnd.jupyter.widget-view+json": {
       "model_id": "2b36449564ca470f890956e4645ee8d8",
       "version_major": 2,
       "version_minor": 0
      },
      "text/plain": [
       "HBox(children=(HTML(value='epoch 6'), FloatProgress(value=0.0, max=4494.0), HTML(value='')))"
      ]
     },
     "metadata": {},
     "output_type": "display_data"
    },
    {
     "name": "stdout",
     "output_type": "stream",
     "text": [
      "\n",
      "loss is: 1.6157\n"
     ]
    },
    {
     "data": {
      "application/vnd.jupyter.widget-view+json": {
       "model_id": "352bde6139f04d3395565e96684aa1c5",
       "version_major": 2,
       "version_minor": 0
      },
      "text/plain": [
       "HBox(children=(HTML(value='epoch 7'), FloatProgress(value=0.0, max=4494.0), HTML(value='')))"
      ]
     },
     "metadata": {},
     "output_type": "display_data"
    },
    {
     "name": "stdout",
     "output_type": "stream",
     "text": [
      "\n",
      "loss is: 1.5921\n"
     ]
    },
    {
     "data": {
      "application/vnd.jupyter.widget-view+json": {
       "model_id": "2bfd533c7ccc4eaeb4bb8d8e693c3eee",
       "version_major": 2,
       "version_minor": 0
      },
      "text/plain": [
       "HBox(children=(HTML(value='epoch 8'), FloatProgress(value=0.0, max=4494.0), HTML(value='')))"
      ]
     },
     "metadata": {},
     "output_type": "display_data"
    },
    {
     "name": "stdout",
     "output_type": "stream",
     "text": [
      "\n",
      "loss is: 1.5711\n"
     ]
    },
    {
     "data": {
      "application/vnd.jupyter.widget-view+json": {
       "model_id": "f4fd712774bc4f5a839262cea1ad3158",
       "version_major": 2,
       "version_minor": 0
      },
      "text/plain": [
       "HBox(children=(HTML(value='epoch 9'), FloatProgress(value=0.0, max=4494.0), HTML(value='')))"
      ]
     },
     "metadata": {},
     "output_type": "display_data"
    },
    {
     "name": "stdout",
     "output_type": "stream",
     "text": [
      "\n",
      "loss is: 1.5523\n"
     ]
    },
    {
     "data": {
      "application/vnd.jupyter.widget-view+json": {
       "model_id": "adf430df2e264ab2bb3ae0c5f83f558c",
       "version_major": 2,
       "version_minor": 0
      },
      "text/plain": [
       "HBox(children=(HTML(value='epoch 10'), FloatProgress(value=0.0, max=4494.0), HTML(value='')))"
      ]
     },
     "metadata": {},
     "output_type": "display_data"
    },
    {
     "name": "stdout",
     "output_type": "stream",
     "text": [
      "\n",
      "loss is: 1.5349\n"
     ]
    },
    {
     "data": {
      "application/vnd.jupyter.widget-view+json": {
       "model_id": "822136e6883c4aa5b7f7885861467ca9",
       "version_major": 2,
       "version_minor": 0
      },
      "text/plain": [
       "HBox(children=(HTML(value='epoch 11'), FloatProgress(value=0.0, max=4494.0), HTML(value='')))"
      ]
     },
     "metadata": {},
     "output_type": "display_data"
    },
    {
     "name": "stdout",
     "output_type": "stream",
     "text": [
      "\n",
      "loss is: 1.5187\n"
     ]
    },
    {
     "data": {
      "application/vnd.jupyter.widget-view+json": {
       "model_id": "6cc6a2e8b8eb48259b3fcdf162476024",
       "version_major": 2,
       "version_minor": 0
      },
      "text/plain": [
       "HBox(children=(HTML(value='epoch 12'), FloatProgress(value=0.0, max=4494.0), HTML(value='')))"
      ]
     },
     "metadata": {},
     "output_type": "display_data"
    },
    {
     "name": "stdout",
     "output_type": "stream",
     "text": [
      "\n",
      "loss is: 1.5038\n"
     ]
    },
    {
     "data": {
      "application/vnd.jupyter.widget-view+json": {
       "model_id": "f981a54c06a14c6e9f6f23653e6f2574",
       "version_major": 2,
       "version_minor": 0
      },
      "text/plain": [
       "HBox(children=(HTML(value='epoch 13'), FloatProgress(value=0.0, max=4494.0), HTML(value='')))"
      ]
     },
     "metadata": {},
     "output_type": "display_data"
    },
    {
     "name": "stdout",
     "output_type": "stream",
     "text": [
      "\n",
      "loss is: 1.4899\n"
     ]
    },
    {
     "data": {
      "application/vnd.jupyter.widget-view+json": {
       "model_id": "8f7d022ce93c4b718a2a6a4bf2cf0ea7",
       "version_major": 2,
       "version_minor": 0
      },
      "text/plain": [
       "HBox(children=(HTML(value='epoch 14'), FloatProgress(value=0.0, max=4494.0), HTML(value='')))"
      ]
     },
     "metadata": {},
     "output_type": "display_data"
    },
    {
     "name": "stdout",
     "output_type": "stream",
     "text": [
      "\n",
      "loss is: 1.4765\n"
     ]
    },
    {
     "data": {
      "application/vnd.jupyter.widget-view+json": {
       "model_id": "57c8db8db2cd4008828cdbafe3a720fd",
       "version_major": 2,
       "version_minor": 0
      },
      "text/plain": [
       "HBox(children=(HTML(value='epoch 15'), FloatProgress(value=0.0, max=4494.0), HTML(value='')))"
      ]
     },
     "metadata": {},
     "output_type": "display_data"
    },
    {
     "name": "stdout",
     "output_type": "stream",
     "text": [
      "\n",
      "loss is: 1.4639\n"
     ]
    },
    {
     "data": {
      "application/vnd.jupyter.widget-view+json": {
       "model_id": "2e7b37286acc48a4a9aceb81246f874c",
       "version_major": 2,
       "version_minor": 0
      },
      "text/plain": [
       "HBox(children=(HTML(value='epoch 16'), FloatProgress(value=0.0, max=4494.0), HTML(value='')))"
      ]
     },
     "metadata": {},
     "output_type": "display_data"
    },
    {
     "name": "stdout",
     "output_type": "stream",
     "text": [
      "\n",
      "loss is: 1.4520\n"
     ]
    },
    {
     "data": {
      "application/vnd.jupyter.widget-view+json": {
       "model_id": "e604a62b150446f4a3e2a0010f4d065d",
       "version_major": 2,
       "version_minor": 0
      },
      "text/plain": [
       "HBox(children=(HTML(value='epoch 17'), FloatProgress(value=0.0, max=4494.0), HTML(value='')))"
      ]
     },
     "metadata": {},
     "output_type": "display_data"
    },
    {
     "name": "stdout",
     "output_type": "stream",
     "text": [
      "\n",
      "loss is: 1.4401\n"
     ]
    },
    {
     "data": {
      "application/vnd.jupyter.widget-view+json": {
       "model_id": "87fb1f7c16ac4f929a1feb6642632afd",
       "version_major": 2,
       "version_minor": 0
      },
      "text/plain": [
       "HBox(children=(HTML(value='epoch 18'), FloatProgress(value=0.0, max=4494.0), HTML(value='')))"
      ]
     },
     "metadata": {},
     "output_type": "display_data"
    },
    {
     "name": "stdout",
     "output_type": "stream",
     "text": [
      "\n",
      "loss is: 1.4287\n"
     ]
    },
    {
     "data": {
      "application/vnd.jupyter.widget-view+json": {
       "model_id": "48ad2a16dd1a4c33af3131076038e60c",
       "version_major": 2,
       "version_minor": 0
      },
      "text/plain": [
       "HBox(children=(HTML(value='epoch 19'), FloatProgress(value=0.0, max=4494.0), HTML(value='')))"
      ]
     },
     "metadata": {},
     "output_type": "display_data"
    },
    {
     "name": "stdout",
     "output_type": "stream",
     "text": [
      "\n",
      "loss is: 1.4180\n",
      "Time is: 17 min 40 sec\n"
     ]
    }
   ],
   "source": [
    "#device = torch.device('cuda' if torch.cuda.is_available() else 'cpu')\n",
    "device = torch.device('cpu')\n",
    "\n",
    "# load data:\n",
    "data_set = CommonDataSet(data_list, device)\n",
    "\n",
    "batch_size = 256\n",
    "\n",
    "# training network model:\n",
    "start = time.time() \n",
    "net = NewNet(input_dim=(data_list[0].shape[0] - 1),\n",
    "            output_dim=len(phones_dict.keys())).to(device)\n",
    "criterion = nn.CrossEntropyLoss()\n",
    "optimizer = torch.optim.SGD(net.parameters(), lr=0.001, momentum=0.9)\n",
    "scheduler = torch.optim.lr_scheduler.CosineAnnealingLR(optimizer, T_max=10, eta_min=0)\n",
    "\n",
    "loss_list = []\n",
    "\n",
    "print('TRAINIG IS STARTED...')\n",
    "for epoch in range(20):\n",
    "    running_loss = 0\n",
    "    counter = 0\n",
    "    for batch_xs, batch_ys in tqdm(data_set.next_batch(batch_size), \\\n",
    "                                   total=data_set.num_batches(batch_size), \\\n",
    "                                   desc='epoch {}'.format(epoch)):\n",
    "        optimizer.zero_grad()        \n",
    "        output = net(batch_xs)\n",
    "\n",
    "        loss = criterion(output, batch_ys)\n",
    "        loss.backward()\n",
    "        optimizer.step()\n",
    "        \n",
    "        running_loss += loss.item()\n",
    "        counter += 1\n",
    "        \n",
    "    print('loss is: {:.4f}'.format((running_loss / counter)))\n",
    "    loss_list.append(running_loss / counter)\n",
    "    \n",
    "end = time.time()\n",
    "minutes = (end - start) // 60\n",
    "seconds = np.mod((end - start), 60)\n",
    "print('Time is: {} min {} sec'.format(int(minutes), int(seconds)))"
   ]
  },
  {
   "cell_type": "code",
   "execution_count": 35,
   "metadata": {},
   "outputs": [
    {
     "data": {
      "image/png": "[encoded data removed]",
      "text/plain": [
       "<Figure size 1080x360 with 1 Axes>"
      ]
     },
     "metadata": {
      "needs_background": "light"
     },
     "output_type": "display_data"
    }
   ],
   "source": [
    "plt.rcParams['figure.figsize'] = (15.0, 5.0)\n",
    "plt.plot(loss_list)\n",
    "plt.title('Loss per epoch')\n",
    "plt.ylabel('loss')\n",
    "plt.xlabel('epoch')\n",
    "plt.grid()\n",
    "plt.show()"
   ]
  },
  {
   "cell_type": "code",
   "execution_count": 36,
   "metadata": {},
   "outputs": [
    {
     "data": {
      "application/vnd.jupyter.widget-view+json": {
       "model_id": "8d7d2d15c1c64ef6a666335429152fd3",
       "version_major": 2,
       "version_minor": 0
      },
      "text/plain": [
       "HBox(children=(HTML(value=''), FloatProgress(value=0.0, max=127837.0), HTML(value='')))"
      ]
     },
     "metadata": {},
     "output_type": "display_data"
    },
    {
     "name": "stdout",
     "output_type": "stream",
     "text": [
      "\n",
      "Total frame accuracy is 0.558\n"
     ]
    }
   ],
   "source": [
    "net.cpu()\n",
    "with torch.no_grad():\n",
    "    correct_cnt = 0\n",
    "    for ftr, true_label in tqdm(zip(data_set.valid[:, :-1], data_set.valid[:, -1]), total=data_set.valid.shape[0]):\n",
    "        ftr = torch.from_numpy(ftr).float()\n",
    "        output = net.forward(ftr)\n",
    "        correct_cnt += (output.argmax().item() == true_label)\n",
    "        \n",
    "    print(\"Total frame accuracy is {:.3f}\".format(correct_cnt / data_set.valid.shape[0]))"
   ]
  },
  {
   "cell_type": "markdown",
   "metadata": {},
   "source": [
    "Выводы: Архитектура сетей: Первое что сразу захотелось - Добавить по сверточных слоев в начало, но качество наоборот стало меньше (возможно я что-то напутал и сделал неправильно). Просто попробовал поиграться с количеством слоев. Чуть поглубже сделал. Чуть добавил CosineAnnealingLR. Если брать эпох побольше, то точность будет всё скорее всего и ещё поменьше. Честно говоря не было сильно много времени ещё поиграться с этим заданием.("
   ]
  }
 ],
 "metadata": {
  "accelerator": "GPU",
  "colab": {
   "collapsed_sections": [],
   "name": "asr_lab_3.ipynb",
   "provenance": [],
   "toc_visible": true
  },
  "kernelspec": {
   "display_name": "Python 3",
   "language": "python",
   "name": "python3"
  },
  "language_info": {
   "codemirror_mode": {
    "name": "ipython",
    "version": 3
   },
   "file_extension": ".py",
   "mimetype": "text/x-python",
   "name": "python",
   "nbconvert_exporter": "python",
   "pygments_lexer": "ipython3",
   "version": "3.8.5"
  }
 },
 "nbformat": 4,
 "nbformat_minor": 4
}

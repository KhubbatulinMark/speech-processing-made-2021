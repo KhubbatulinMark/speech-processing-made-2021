{
 "cells": [
  {
   "cell_type": "code",
   "execution_count": 1,
   "metadata": {},
   "outputs": [],
   "source": [
    "import numpy as np\n",
    "from dtw import dtw\n",
    "\n",
    "import matplotlib.pyplot as plt"
   ]
  },
  {
   "cell_type": "code",
   "execution_count": 2,
   "metadata": {},
   "outputs": [],
   "source": [
    "x = np.array([6, 0, 1, 0, 6, 1, 2]).reshape(-1, 1)\n",
    "y = np.array([1, 2, 0, 2, 1, 2, 2, 4]).reshape(-1, 1)"
   ]
  },
  {
   "cell_type": "code",
   "execution_count": 3,
   "metadata": {},
   "outputs": [
    {
     "name": "stdout",
     "output_type": "stream",
     "text": [
      "Дистанция между векторами: 13.0\n",
      "[[ 5.  9. 15. 19. 24. 28. 32. 34.]\n",
      " [ 6.  7.  7.  9. 10. 12. 14. 18.]\n",
      " [ 6.  7.  8.  8.  8.  9. 10. 13.]\n",
      " [ 7.  8.  7.  9.  9. 10. 11. 14.]\n",
      " [12. 11. 13. 11. 14. 13. 14. 13.]\n",
      " [12. 12. 12. 12. 11. 12. 13. 16.]\n",
      " [13. 12. 14. 12. 12. 11. 11. 13.]]\n"
     ]
    },
    {
     "data": {
      "image/png": "[encoded data removed]",
      "text/plain": [
       "<Figure size 432x288 with 1 Axes>"
      ]
     },
     "metadata": {
      "needs_background": "light"
     },
     "output_type": "display_data"
    }
   ],
   "source": [
    "manhattan_distance = lambda x, y: np.abs(x - y)\n",
    "\n",
    "d, cost_matrix, acc_cost_matrix, path = dtw(x, y, dist=manhattan_distance)\n",
    "\n",
    "print(f'Дистанция между векторами: {d}')\n",
    "\n",
    "print(acc_cost_matrix)\n",
    "\n",
    "plt.imshow(acc_cost_matrix.T, origin='lower', cmap='gray', interpolation='nearest')\n",
    "plt.plot(path[0], path[1], 'w')\n",
    "plt.show()"
   ]
  },
  {
   "cell_type": "code",
   "execution_count": null,
   "metadata": {},
   "outputs": [],
   "source": []
  }
 ],
 "metadata": {
  "kernelspec": {
   "display_name": "Python 3",
   "language": "python",
   "name": "python3"
  },
  "language_info": {
   "codemirror_mode": {
    "name": "ipython",
    "version": 3
   },
   "file_extension": ".py",
   "mimetype": "text/x-python",
   "name": "python",
   "nbconvert_exporter": "python",
   "pygments_lexer": "ipython3",
   "version": "3.8.5"
  }
 },
 "nbformat": 4,
 "nbformat_minor": 4
}
